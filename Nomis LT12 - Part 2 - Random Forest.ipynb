{
 "cells": [
  {
   "cell_type": "markdown",
   "metadata": {},
   "source": [
    "## Predicting the Optimal APR for e-Car\n",
    "### Nomis Solutions - LT 12"
   ]
  },
  {
   "cell_type": "markdown",
   "metadata": {},
   "source": [
    "### Part 2 - Random Forest Regression"
   ]
  },
  {
   "cell_type": "code",
   "execution_count": 1,
   "metadata": {
    "ExecuteTime": {
     "end_time": "2019-08-15T01:38:33.775516Z",
     "start_time": "2019-08-15T01:38:27.796789Z"
    }
   },
   "outputs": [
    {
     "name": "stderr",
     "output_type": "stream",
     "text": [
      "C:\\Users\\N.P.Srivastawa\\Anaconda3\\lib\\site-packages\\tqdm\\autonotebook\\__init__.py:14: TqdmExperimentalWarning: Using `tqdm.autonotebook.tqdm` in notebook mode. Use `tqdm.tqdm` instead to force console mode (e.g. in jupyter console)\n",
      "  \" (e.g. in jupyter console)\", TqdmExperimentalWarning)\n"
     ]
    }
   ],
   "source": [
    "import numpy as np\n",
    "import pandas as pd\n",
    "import matplotlib.pyplot as plt\n",
    "import seaborn as sns\n",
    "import re\n",
    "from sklearn.model_selection import train_test_split\n",
    "from sklearn.ensemble import RandomForestRegressor\n",
    "from tqdm.autonotebook import tqdm\n",
    "from sklearn.multioutput import MultiOutputRegressor\n",
    "from sklearn.model_selection import GridSearchCV"
   ]
  },
  {
   "cell_type": "markdown",
   "metadata": {},
   "source": [
    "### Reading Data"
   ]
  },
  {
   "cell_type": "code",
   "execution_count": 9,
   "metadata": {
    "ExecuteTime": {
     "end_time": "2019-08-12T10:03:49.740769Z",
     "start_time": "2019-08-12T10:02:50.604224Z"
    }
   },
   "outputs": [],
   "source": [
    "raw = pd.read_excel('NomisB.xlsx', na_values=' ')"
   ]
  },
  {
   "cell_type": "code",
   "execution_count": 157,
   "metadata": {
    "ExecuteTime": {
     "end_time": "2019-08-12T10:56:01.243499Z",
     "start_time": "2019-08-12T10:56:01.189182Z"
    },
    "scrolled": false
   },
   "outputs": [
    {
     "name": "stdout",
     "output_type": "stream",
     "text": [
      "(208085, 12)\n"
     ]
    },
    {
     "data": {
      "text/plain": [
       "Index(['Tier', 'FICO', 'Approve Date', 'Term', 'Amount', 'Previous Rate',\n",
       "       'Car  Type', 'Competition rate', 'Outcome', 'Rate', 'Cost of Funds',\n",
       "       'Partner Bin'],\n",
       "      dtype='object')"
      ]
     },
     "execution_count": 157,
     "metadata": {},
     "output_type": "execute_result"
    }
   ],
   "source": [
    "print(raw.shape)\n",
    "raw.columns"
   ]
  },
  {
   "cell_type": "code",
   "execution_count": 158,
   "metadata": {
    "ExecuteTime": {
     "end_time": "2019-08-12T10:56:02.024743Z",
     "start_time": "2019-08-12T10:56:01.713362Z"
    }
   },
   "outputs": [],
   "source": [
    "df = raw.copy()\n",
    "\n",
    "# Previous Rate NA = 0\n",
    "df = df.fillna(0)\n",
    "\n",
    "# Drop date\n",
    "df = df.drop('Approve Date', axis=1)\n",
    "\n",
    "# Partner Bin is categorical\n",
    "df['Partner Bin'] = df['Partner Bin'].astype('category')\n",
    "df = pd.get_dummies(df)\n",
    "\n",
    "# Drop Amount that is too small\n",
    "df = df[df.Amount>10]"
   ]
  },
  {
   "cell_type": "markdown",
   "metadata": {},
   "source": [
    "### Segmenting Data based on Tiers"
   ]
  },
  {
   "cell_type": "code",
   "execution_count": 159,
   "metadata": {
    "ExecuteTime": {
     "end_time": "2019-08-12T10:56:03.114244Z",
     "start_time": "2019-08-12T10:56:02.560636Z"
    }
   },
   "outputs": [],
   "source": [
    "# combi = (Outcome, Tier)\n",
    "combi = [(1,1),(1,2),(1,3),(1,4),(0,1),(0,2),(0,3),(0,4)]\n",
    "\n",
    "Xy = {i : { \n",
    "            'X' : df.groupby(['Outcome', 'Tier']).get_group(i).drop(['Outcome','Rate','Tier'], axis=1),\n",
    "            'y' : df.groupby(['Outcome', 'Tier']).get_group(i).Rate\n",
    "          }\n",
    "      for i in combi}"
   ]
  },
  {
   "cell_type": "code",
   "execution_count": 162,
   "metadata": {
    "ExecuteTime": {
     "end_time": "2019-08-12T10:58:40.713679Z",
     "start_time": "2019-08-12T10:58:40.626440Z"
    }
   },
   "outputs": [
    {
     "data": {
      "text/plain": [
       "[1, 2, 3, 4]"
      ]
     },
     "execution_count": 162,
     "metadata": {},
     "output_type": "execute_result"
    }
   ],
   "source": [
    "list(range(1,5))"
   ]
  },
  {
   "cell_type": "markdown",
   "metadata": {},
   "source": [
    "### Applying Random Forest"
   ]
  },
  {
   "cell_type": "code",
   "execution_count": 163,
   "metadata": {
    "ExecuteTime": {
     "end_time": "2019-08-12T11:00:08.421155Z",
     "start_time": "2019-08-12T10:59:02.138290Z"
    },
    "scrolled": true
   },
   "outputs": [
    {
     "data": {
      "application/vnd.jupyter.widget-view+json": {
       "model_id": "8de73181fee3401091916a0fd5082000",
       "version_major": 2,
       "version_minor": 0
      },
      "text/plain": [
       "HBox(children=(IntProgress(value=0, max=4), HTML(value='')))"
      ]
     },
     "metadata": {},
     "output_type": "display_data"
    }
   ],
   "source": [
    "results = {}\n",
    "for i in tqdm(range(1,5)):\n",
    "    X = Xy[(1,i)]['X']\n",
    "    y = Xy[(1,i)]['y']\n",
    "    \n",
    "    X_train, X_test, y_train, y_test = train_test_split(X, y, test_size = 0.25, random_state=0)\n",
    "\n",
    "    param_grids = {'max_depth': [2, 5, 10, 20, 30],\n",
    "                   'n_estimators': [10, 20, 50] }   \n",
    "\n",
    "    est = RandomForestRegressor(random_state=0)\n",
    "    gs_cv = GridSearchCV(est, param_grids, n_jobs=-1, cv=5).fit(X_train, y_train)\n",
    "    results[(1,i)] = {\n",
    "        'model' : gs_cv,\n",
    "        'best_params' : gs_cv.best_params_,\n",
    "        'acc' : gs_cv.score(X_test, y_test)\n",
    "    }"
   ]
  },
  {
   "cell_type": "code",
   "execution_count": 164,
   "metadata": {
    "ExecuteTime": {
     "end_time": "2019-08-12T11:00:15.989203Z",
     "start_time": "2019-08-12T11:00:14.574275Z"
    }
   },
   "outputs": [
    {
     "data": {
      "application/vnd.jupyter.widget-view+json": {
       "model_id": "0088968534e046168f5a469876415cf2",
       "version_major": 2,
       "version_minor": 0
      },
      "text/plain": [
       "HBox(children=(IntProgress(value=0, max=4), HTML(value='')))"
      ]
     },
     "metadata": {},
     "output_type": "display_data"
    }
   ],
   "source": [
    "add_profit ={}\n",
    "for i in tqdm(range(1,5)):\n",
    "    exp = pd.concat([Xy[(0,i)]['X'].reset_index(drop=True), \n",
    "                 Xy[(0,i)]['y'].reset_index(drop=True),\n",
    "                 pd.DataFrame({'Predicted rate' :np.round(results[(1,i)]['model'].predict(Xy[(0,i)]['X']), 2)})], axis=1)\n",
    "    temp = exp[(exp['Predicted rate'] < exp['Rate']) & (exp['Predicted rate'] < exp['Competition rate']) ]\n",
    "    \n",
    "    add_profit[(0,i)] = {\n",
    "        'Captured':  temp.shape[0],\n",
    "        'Captured pct': round(temp.shape[0]/exp.shape[0]*100, 1),\n",
    "        'Profit' : (temp.Amount * temp.Term/12 * (temp['Predicted rate'] - temp['Cost of Funds'])/100).sum()\n",
    "    }"
   ]
  },
  {
   "cell_type": "code",
   "execution_count": 165,
   "metadata": {
    "ExecuteTime": {
     "end_time": "2019-08-12T11:00:17.595306Z",
     "start_time": "2019-08-12T11:00:17.554822Z"
    }
   },
   "outputs": [
    {
     "data": {
      "text/plain": [
       "212.72276645833642"
      ]
     },
     "execution_count": 165,
     "metadata": {},
     "output_type": "execute_result"
    }
   ],
   "source": [
    "sum([add_profit[i]['Profit'] for i in add_profit])/1000000"
   ]
  },
  {
   "cell_type": "markdown",
   "metadata": {},
   "source": [
    "### Calculating Profits for each of the Segments for Outcome 1"
   ]
  },
  {
   "cell_type": "code",
   "execution_count": 166,
   "metadata": {
    "ExecuteTime": {
     "end_time": "2019-08-12T11:00:20.118524Z",
     "start_time": "2019-08-12T11:00:20.057326Z"
    }
   },
   "outputs": [
    {
     "data": {
      "text/plain": [
       "{(0, 1): {'Captured': 41147,\n",
       "  'Captured pct': 54.1,\n",
       "  'Profit': 188583765.8242477},\n",
       " (0, 2): {'Captured': 3843, 'Captured pct': 10.7, 'Profit': 22309107.90925261},\n",
       " (0, 3): {'Captured': 341, 'Captured pct': 1.1, 'Profit': 1824160.624836115},\n",
       " (0, 4): {'Captured': 1, 'Captured pct': 0.0, 'Profit': 5732.0999999999985}}"
      ]
     },
     "execution_count": 166,
     "metadata": {},
     "output_type": "execute_result"
    }
   ],
   "source": [
    "add_profit"
   ]
  },
  {
   "cell_type": "code",
   "execution_count": 167,
   "metadata": {
    "ExecuteTime": {
     "end_time": "2019-08-12T11:06:51.287859Z",
     "start_time": "2019-08-12T11:06:51.273766Z"
    }
   },
   "outputs": [
    {
     "data": {
      "text/plain": [
       "[0.9020883779290694,\n",
       " 0.8821695815569348,\n",
       " 0.8592910813705846,\n",
       " 0.8553037883010983]"
      ]
     },
     "execution_count": 167,
     "metadata": {},
     "output_type": "execute_result"
    }
   ],
   "source": [
    "[results[i]['acc'] for i in results]"
   ]
  },
  {
   "cell_type": "markdown",
   "metadata": {},
   "source": [
    "| TIER       | Accuracy (RF)        |\n",
    "| ------------- |:-------------:|\n",
    "|1 | 0.9020883779290694 |\n",
    "|2    |0.8821695815569348       |\n",
    "| 3 | 0.8592910813705846   |\n",
    "| 4 | 0.8553037883010983   |"
   ]
  },
  {
   "cell_type": "markdown",
   "metadata": {},
   "source": [
    "**Random Forest Regression accuracies slightly lower than the Gradient Boosting Method**"
   ]
  }
 ],
 "metadata": {
  "kernelspec": {
   "display_name": "Python 3",
   "language": "python",
   "name": "python3"
  },
  "language_info": {
   "codemirror_mode": {
    "name": "ipython",
    "version": 3
   },
   "file_extension": ".py",
   "mimetype": "text/x-python",
   "name": "python",
   "nbconvert_exporter": "python",
   "pygments_lexer": "ipython3",
   "version": "3.6.5"
  }
 },
 "nbformat": 4,
 "nbformat_minor": 2
}
