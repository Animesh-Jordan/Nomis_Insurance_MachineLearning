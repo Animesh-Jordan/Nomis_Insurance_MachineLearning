{
 "cells": [
  {
   "cell_type": "markdown",
   "metadata": {},
   "source": [
    "## Predicting the Optimal APR for e-Car\n",
    "### Nomis Solutions - LT 12"
   ]
  },
  {
   "cell_type": "markdown",
   "metadata": {},
   "source": [
    "### Part 2 - Gradient Boosting Method"
   ]
  },
  {
   "cell_type": "markdown",
   "metadata": {},
   "source": [
    "Results of the Gradient Boosting Method show high accuracy accross all Customer Tiers relative to other models used in the analysis."
   ]
  },
  {
   "cell_type": "code",
   "execution_count": 1,
   "metadata": {
    "ExecuteTime": {
     "end_time": "2019-08-12T11:18:30.470475Z",
     "start_time": "2019-08-12T11:18:25.345048Z"
    }
   },
   "outputs": [
    {
     "name": "stderr",
     "output_type": "stream",
     "text": [
      "C:\\Users\\Rivero\\Anaconda3\\lib\\site-packages\\tqdm\\autonotebook\\__init__.py:14: TqdmExperimentalWarning: Using `tqdm.autonotebook.tqdm` in notebook mode. Use `tqdm.tqdm` instead to force console mode (e.g. in jupyter console)\n",
      "  \" (e.g. in jupyter console)\", TqdmExperimentalWarning)\n"
     ]
    }
   ],
   "source": [
    "import numpy as np\n",
    "import pandas as pd\n",
    "import matplotlib.pyplot as plt\n",
    "import seaborn as sns\n",
    "import re\n",
    "from sklearn.model_selection import train_test_split\n",
    "from sklearn.ensemble import GradientBoostingRegressor\n",
    "from tqdm.autonotebook import tqdm\n",
    "from sklearn.multioutput import MultiOutputRegressor\n",
    "from sklearn.model_selection import GridSearchCV"
   ]
  },
  {
   "cell_type": "markdown",
   "metadata": {},
   "source": [
    "### Reading Data"
   ]
  },
  {
   "cell_type": "code",
   "execution_count": 2,
   "metadata": {
    "ExecuteTime": {
     "end_time": "2019-08-12T11:19:26.902879Z",
     "start_time": "2019-08-12T11:18:30.537387Z"
    }
   },
   "outputs": [],
   "source": [
    "raw = pd.read_excel('NomisB.xlsx', na_values=' ')"
   ]
  },
  {
   "cell_type": "code",
   "execution_count": 3,
   "metadata": {
    "ExecuteTime": {
     "end_time": "2019-08-12T11:19:27.027113Z",
     "start_time": "2019-08-12T11:19:26.926926Z"
    },
    "scrolled": false
   },
   "outputs": [
    {
     "name": "stdout",
     "output_type": "stream",
     "text": [
      "(208085, 12)\n"
     ]
    },
    {
     "data": {
      "text/plain": [
       "Index(['Tier', 'FICO', 'Approve Date', 'Term', 'Amount', 'Previous Rate',\n",
       "       'Car  Type', 'Competition rate', 'Outcome', 'Rate', 'Cost of Funds',\n",
       "       'Partner Bin'],\n",
       "      dtype='object')"
      ]
     },
     "execution_count": 3,
     "metadata": {},
     "output_type": "execute_result"
    }
   ],
   "source": [
    "print(raw.shape)\n",
    "raw.columns"
   ]
  },
  {
   "cell_type": "code",
   "execution_count": 4,
   "metadata": {
    "ExecuteTime": {
     "end_time": "2019-08-12T11:19:27.422110Z",
     "start_time": "2019-08-12T11:19:27.085707Z"
    }
   },
   "outputs": [],
   "source": [
    "df = raw.copy()\n",
    "\n",
    "# Previous Rate NA = 0\n",
    "df = df.fillna(0)\n",
    "\n",
    "# Drop date\n",
    "df = df.drop('Approve Date', axis=1)\n",
    "\n",
    "# Partner Bin is categorical\n",
    "df['Partner Bin'] = df['Partner Bin'].astype('category')\n",
    "df = pd.get_dummies(df)\n",
    "\n",
    "# Drop Amount that is too small\n",
    "df = df[df.Amount>10]"
   ]
  },
  {
   "cell_type": "markdown",
   "metadata": {},
   "source": [
    "### Segmenting Data based on Tiers"
   ]
  },
  {
   "cell_type": "code",
   "execution_count": 5,
   "metadata": {
    "ExecuteTime": {
     "end_time": "2019-08-12T11:19:27.952501Z",
     "start_time": "2019-08-12T11:19:27.425953Z"
    }
   },
   "outputs": [],
   "source": [
    "# combi = (Outcome, Tier)\n",
    "combi = [(1,1),(1,2),(1,3),(1,4),(0,1),(0,2),(0,3),(0,4)]\n",
    "\n",
    "Xy = {i : { \n",
    "            'X' : df.groupby(['Outcome', 'Tier']).get_group(i).drop(['Outcome','Rate','Tier'], axis=1),\n",
    "            'y' : df.groupby(['Outcome', 'Tier']).get_group(i).Rate\n",
    "          }\n",
    "      for i in combi}"
   ]
  },
  {
   "cell_type": "code",
   "execution_count": 6,
   "metadata": {
    "ExecuteTime": {
     "end_time": "2019-08-12T11:19:27.980250Z",
     "start_time": "2019-08-12T11:19:27.954496Z"
    }
   },
   "outputs": [
    {
     "data": {
      "text/plain": [
       "[1, 2, 3, 4]"
      ]
     },
     "execution_count": 6,
     "metadata": {},
     "output_type": "execute_result"
    }
   ],
   "source": [
    "list(range(1,5))"
   ]
  },
  {
   "cell_type": "markdown",
   "metadata": {},
   "source": [
    "### Applying GBM"
   ]
  },
  {
   "cell_type": "code",
   "execution_count": 8,
   "metadata": {
    "ExecuteTime": {
     "end_time": "2019-08-12T11:23:11.219564Z",
     "start_time": "2019-08-12T11:21:02.636581Z"
    },
    "scrolled": true
   },
   "outputs": [
    {
     "data": {
      "application/vnd.jupyter.widget-view+json": {
       "model_id": "27a4d344131f4e7e9892845884cc7fb2",
       "version_major": 2,
       "version_minor": 0
      },
      "text/plain": [
       "HBox(children=(IntProgress(value=0, max=4), HTML(value='')))"
      ]
     },
     "metadata": {},
     "output_type": "display_data"
    },
    {
     "name": "stdout",
     "output_type": "stream",
     "text": [
      "\n"
     ]
    }
   ],
   "source": [
    "results = {}\n",
    "for i in tqdm(range(1,5)):\n",
    "    X = Xy[(1,i)]['X']\n",
    "    y = Xy[(1,i)]['y']\n",
    "    \n",
    "    X_train, X_test, y_train, y_test = train_test_split(X, y, test_size = 0.25, random_state=1)\n",
    "\n",
    "    param_grids = {'learning_rate': [0.2, 0.1, 0.05],\n",
    "                   'max_depth': [3, 4, 6],\n",
    "                   'min_samples_leaf': [2,3,4],\n",
    "                   'max_features':[0.5,0.3,0.2]}   \n",
    "\n",
    "    est = GradientBoostingRegressor(n_estimators=50)\n",
    "    gs_cv = GridSearchCV(est, param_grids, n_jobs=-1, cv=5).fit(X_train, y_train)\n",
    "    results[(1,i)] = {\n",
    "        'model' : gs_cv,\n",
    "        'best_params' : gs_cv.best_params_,\n",
    "        'acc' : gs_cv.score(X_test, y_test)\n",
    "    }"
   ]
  },
  {
   "cell_type": "code",
   "execution_count": 9,
   "metadata": {
    "ExecuteTime": {
     "end_time": "2019-08-12T11:23:14.911748Z",
     "start_time": "2019-08-12T11:23:14.281494Z"
    }
   },
   "outputs": [
    {
     "data": {
      "application/vnd.jupyter.widget-view+json": {
       "model_id": "d84feb08ae4d4ac5a8b052dcb12c3cd3",
       "version_major": 2,
       "version_minor": 0
      },
      "text/plain": [
       "HBox(children=(IntProgress(value=0, max=4), HTML(value='')))"
      ]
     },
     "metadata": {},
     "output_type": "display_data"
    },
    {
     "name": "stdout",
     "output_type": "stream",
     "text": [
      "\n"
     ]
    }
   ],
   "source": [
    "add_profit ={}\n",
    "for i in tqdm(range(1,5)):\n",
    "    exp = pd.concat([Xy[(0,i)]['X'].reset_index(drop=True), \n",
    "                 Xy[(0,i)]['y'].reset_index(drop=True),\n",
    "                 pd.DataFrame({'Predicted rate' :np.round(results[(1,i)]['model'].predict(Xy[(0,i)]['X']), 2)})], axis=1)\n",
    "    temp = exp[(exp['Predicted rate'] < exp['Rate']) & (exp['Predicted rate'] < exp['Competition rate']) ]\n",
    "    \n",
    "    add_profit[(0,i)] = {\n",
    "        'Captured':  temp.shape[0],\n",
    "        'Captured pct': round(temp.shape[0]/exp.shape[0]*100, 1),\n",
    "        'Profit' : (temp.Amount * temp.Term/12 * (temp['Predicted rate'] - temp['Cost of Funds'])/100).sum()\n",
    "    }"
   ]
  },
  {
   "cell_type": "code",
   "execution_count": 10,
   "metadata": {
    "ExecuteTime": {
     "end_time": "2019-08-12T11:23:15.510970Z",
     "start_time": "2019-08-12T11:23:15.455564Z"
    }
   },
   "outputs": [
    {
     "data": {
      "text/plain": [
       "222.17515435096757"
      ]
     },
     "execution_count": 10,
     "metadata": {},
     "output_type": "execute_result"
    }
   ],
   "source": [
    "sum([add_profit[i]['Profit'] for i in add_profit])/1000000"
   ]
  },
  {
   "cell_type": "markdown",
   "metadata": {},
   "source": [
    "### Calculating Profits for each of the Segments for Outcome 1"
   ]
  },
  {
   "cell_type": "code",
   "execution_count": 11,
   "metadata": {
    "ExecuteTime": {
     "end_time": "2019-08-12T11:23:16.785708Z",
     "start_time": "2019-08-12T11:23:16.714889Z"
    }
   },
   "outputs": [
    {
     "data": {
      "text/plain": [
       "{(0, 1): {'Captured': 44675,\n",
       "  'Captured pct': 58.8,\n",
       "  'Profit': 199825969.2103832},\n",
       " (0, 2): {'Captured': 3327, 'Captured pct': 9.3, 'Profit': 20399108.693883263},\n",
       " (0, 3): {'Captured': 415, 'Captured pct': 1.3, 'Profit': 1939704.65890111},\n",
       " (0, 4): {'Captured': 2, 'Captured pct': 0.0, 'Profit': 10371.787800000002}}"
      ]
     },
     "execution_count": 11,
     "metadata": {},
     "output_type": "execute_result"
    }
   ],
   "source": [
    "add_profit"
   ]
  },
  {
   "cell_type": "code",
   "execution_count": 12,
   "metadata": {
    "ExecuteTime": {
     "end_time": "2019-08-12T11:23:24.294870Z",
     "start_time": "2019-08-12T11:23:24.210125Z"
    }
   },
   "outputs": [
    {
     "data": {
      "text/plain": [
       "[0.915138532237375, 0.8718606471173999, 0.8621208067161452, 0.8428563217815007]"
      ]
     },
     "execution_count": 12,
     "metadata": {},
     "output_type": "execute_result"
    }
   ],
   "source": [
    "[results[i]['acc'] for i in results]"
   ]
  },
  {
   "cell_type": "markdown",
   "metadata": {},
   "source": [
    "| TIER       | Accuracy (GBM)        |\n",
    "| ------------- |:-------------:|\n",
    "|1 | 0.9020883779290694 |\n",
    "|2    |0.8821695815569348       |\n",
    "| 3 | 0.8592910813705846   |\n",
    "| 4 | 0.8553037883010983   |"
   ]
  },
  {
   "cell_type": "markdown",
   "metadata": {},
   "source": [
    "**Gradient Boosting Method results in the highest accuracies compared to Random Forest, Ridge Regression and Support Vector Regressor**"
   ]
  }
 ],
 "metadata": {
  "kernelspec": {
   "display_name": "Python 3",
   "language": "python",
   "name": "python3"
  },
  "language_info": {
   "codemirror_mode": {
    "name": "ipython",
    "version": 3
   },
   "file_extension": ".py",
   "mimetype": "text/x-python",
   "name": "python",
   "nbconvert_exporter": "python",
   "pygments_lexer": "ipython3",
   "version": "3.6.5"
  }
 },
 "nbformat": 4,
 "nbformat_minor": 2
}
