{
 "cells": [
  {
   "cell_type": "markdown",
   "metadata": {},
   "source": [
    "## Predicting the Optimal APR for e-Car\n",
    "### Nomis Solutions - LT 12"
   ]
  },
  {
   "cell_type": "markdown",
   "metadata": {},
   "source": [
    "### Part 2 - Ridge Regression"
   ]
  },
  {
   "cell_type": "code",
   "execution_count": 1,
   "metadata": {
    "ExecuteTime": {
     "end_time": "2019-08-12T03:01:56.804507Z",
     "start_time": "2019-08-12T03:01:53.861279Z"
    }
   },
   "outputs": [],
   "source": [
    "import numpy as np\n",
    "import pandas as pd\n",
    "import matplotlib.pyplot as plt\n",
    "import seaborn as sns\n",
    "import re"
   ]
  },
  {
   "cell_type": "markdown",
   "metadata": {},
   "source": [
    "### Reading Data"
   ]
  },
  {
   "cell_type": "code",
   "execution_count": 2,
   "metadata": {
    "ExecuteTime": {
     "end_time": "2019-08-12T03:02:57.020104Z",
     "start_time": "2019-08-12T03:02:04.703966Z"
    }
   },
   "outputs": [],
   "source": [
    "raw = pd.read_excel('NomisB.xlsx', na_values=' ')"
   ]
  },
  {
   "cell_type": "code",
   "execution_count": 3,
   "metadata": {},
   "outputs": [
    {
     "data": {
      "text/html": [
       "<div>\n",
       "<style scoped>\n",
       "    .dataframe tbody tr th:only-of-type {\n",
       "        vertical-align: middle;\n",
       "    }\n",
       "\n",
       "    .dataframe tbody tr th {\n",
       "        vertical-align: top;\n",
       "    }\n",
       "\n",
       "    .dataframe thead th {\n",
       "        text-align: right;\n",
       "    }\n",
       "</style>\n",
       "<table border=\"1\" class=\"dataframe\">\n",
       "  <thead>\n",
       "    <tr style=\"text-align: right;\">\n",
       "      <th></th>\n",
       "      <th>Tier</th>\n",
       "      <th>FICO</th>\n",
       "      <th>Approve Date</th>\n",
       "      <th>Term</th>\n",
       "      <th>Amount</th>\n",
       "      <th>Previous Rate</th>\n",
       "      <th>Car  Type</th>\n",
       "      <th>Competition rate</th>\n",
       "      <th>Outcome</th>\n",
       "      <th>Rate</th>\n",
       "      <th>Cost of Funds</th>\n",
       "      <th>Partner Bin</th>\n",
       "    </tr>\n",
       "  </thead>\n",
       "  <tbody>\n",
       "    <tr>\n",
       "      <th>0</th>\n",
       "      <td>1</td>\n",
       "      <td>743</td>\n",
       "      <td>2002-07-01</td>\n",
       "      <td>36</td>\n",
       "      <td>19100.00</td>\n",
       "      <td>NaN</td>\n",
       "      <td>N</td>\n",
       "      <td>4.95</td>\n",
       "      <td>1</td>\n",
       "      <td>4.85</td>\n",
       "      <td>1.8388</td>\n",
       "      <td>1</td>\n",
       "    </tr>\n",
       "    <tr>\n",
       "      <th>1</th>\n",
       "      <td>1</td>\n",
       "      <td>752</td>\n",
       "      <td>2002-07-01</td>\n",
       "      <td>60</td>\n",
       "      <td>36460.08</td>\n",
       "      <td>NaN</td>\n",
       "      <td>N</td>\n",
       "      <td>5.65</td>\n",
       "      <td>1</td>\n",
       "      <td>5.49</td>\n",
       "      <td>1.8388</td>\n",
       "      <td>1</td>\n",
       "    </tr>\n",
       "    <tr>\n",
       "      <th>2</th>\n",
       "      <td>1</td>\n",
       "      <td>778</td>\n",
       "      <td>2002-07-01</td>\n",
       "      <td>48</td>\n",
       "      <td>12000.00</td>\n",
       "      <td>NaN</td>\n",
       "      <td>U</td>\n",
       "      <td>5.85</td>\n",
       "      <td>1</td>\n",
       "      <td>5.85</td>\n",
       "      <td>1.8388</td>\n",
       "      <td>3</td>\n",
       "    </tr>\n",
       "    <tr>\n",
       "      <th>3</th>\n",
       "      <td>2</td>\n",
       "      <td>724</td>\n",
       "      <td>2002-07-01</td>\n",
       "      <td>60</td>\n",
       "      <td>19290.00</td>\n",
       "      <td>NaN</td>\n",
       "      <td>N</td>\n",
       "      <td>5.65</td>\n",
       "      <td>1</td>\n",
       "      <td>5.39</td>\n",
       "      <td>1.8388</td>\n",
       "      <td>3</td>\n",
       "    </tr>\n",
       "    <tr>\n",
       "      <th>4</th>\n",
       "      <td>2</td>\n",
       "      <td>700</td>\n",
       "      <td>2002-07-01</td>\n",
       "      <td>72</td>\n",
       "      <td>24461.12</td>\n",
       "      <td>NaN</td>\n",
       "      <td>N</td>\n",
       "      <td>6.25</td>\n",
       "      <td>1</td>\n",
       "      <td>6.99</td>\n",
       "      <td>1.8388</td>\n",
       "      <td>3</td>\n",
       "    </tr>\n",
       "  </tbody>\n",
       "</table>\n",
       "</div>"
      ],
      "text/plain": [
       "   Tier  FICO Approve Date  Term    Amount  Previous Rate Car  Type  \\\n",
       "0     1   743   2002-07-01    36  19100.00            NaN         N   \n",
       "1     1   752   2002-07-01    60  36460.08            NaN         N   \n",
       "2     1   778   2002-07-01    48  12000.00            NaN         U   \n",
       "3     2   724   2002-07-01    60  19290.00            NaN         N   \n",
       "4     2   700   2002-07-01    72  24461.12            NaN         N   \n",
       "\n",
       "   Competition rate  Outcome  Rate  Cost of Funds  Partner Bin  \n",
       "0              4.95        1  4.85         1.8388            1  \n",
       "1              5.65        1  5.49         1.8388            1  \n",
       "2              5.85        1  5.85         1.8388            3  \n",
       "3              5.65        1  5.39         1.8388            3  \n",
       "4              6.25        1  6.99         1.8388            3  "
      ]
     },
     "execution_count": 3,
     "metadata": {},
     "output_type": "execute_result"
    }
   ],
   "source": [
    "raw.head()"
   ]
  },
  {
   "cell_type": "code",
   "execution_count": 4,
   "metadata": {
    "ExecuteTime": {
     "end_time": "2019-08-12T03:02:57.232376Z",
     "start_time": "2019-08-12T03:02:57.020104Z"
    },
    "scrolled": false
   },
   "outputs": [
    {
     "name": "stdout",
     "output_type": "stream",
     "text": [
      "(208085, 12)\n"
     ]
    },
    {
     "data": {
      "text/plain": [
       "Index(['Tier', 'FICO', 'Approve Date', 'Term', 'Amount', 'Previous Rate',\n",
       "       'Car  Type', 'Competition rate', 'Outcome', 'Rate', 'Cost of Funds',\n",
       "       'Partner Bin'],\n",
       "      dtype='object')"
      ]
     },
     "execution_count": 4,
     "metadata": {},
     "output_type": "execute_result"
    }
   ],
   "source": [
    "print(raw.shape)\n",
    "raw.columns"
   ]
  },
  {
   "cell_type": "code",
   "execution_count": null,
   "metadata": {},
   "outputs": [],
   "source": [
    "df = raw.copy()\n",
    "\n",
    "# Previous Rate NA = 0\n",
    "df = df.fillna(0)\n",
    "\n",
    "# Drop date\n",
    "df = df.drop('Approve Date', axis=1)\n",
    "\n",
    "# Partner Bin is categorical\n",
    "df['Partner Bin'] = df['Partner Bin'].astype('category')\n",
    "df = pd.get_dummies(df)\n",
    "\n",
    "# Drop Amount that is too small\n",
    "df = df[df.Amount>10]"
   ]
  },
  {
   "cell_type": "markdown",
   "metadata": {},
   "source": [
    "### Segmenting Data based on Tiers"
   ]
  },
  {
   "cell_type": "code",
   "execution_count": 14,
   "metadata": {
    "ExecuteTime": {
     "end_time": "2019-08-12T03:13:06.108700Z",
     "start_time": "2019-08-12T03:13:05.600135Z"
    }
   },
   "outputs": [],
   "source": [
    "# combi = (Outcome, Tier)\n",
    "combi = [(1,1),(1,2),(1,3),(1,4),(0,1),(0,2),(0,3),(0,4)]\n",
    "\n",
    "Xy = {i : { \n",
    "            'X' : df.groupby(['Outcome', 'Tier']).get_group(i).drop(['Outcome','Rate'], axis=1),\n",
    "            'y' : df.groupby(['Outcome', 'Tier']).get_group(i).Rate\n",
    "          }\n",
    "      for i in combi}"
   ]
  },
  {
   "cell_type": "markdown",
   "metadata": {},
   "source": [
    "### Applying Ridge Regression"
   ]
  },
  {
   "cell_type": "code",
   "execution_count": 44,
   "metadata": {},
   "outputs": [],
   "source": [
    "from sklearn.linear_model import Ridge\n",
    "from sklearn.model_selection import train_test_split"
   ]
  },
  {
   "cell_type": "code",
   "execution_count": 45,
   "metadata": {},
   "outputs": [],
   "source": [
    "from sklearn.preprocessing import MinMaxScaler\n",
    "scaler = MinMaxScaler()"
   ]
  },
  {
   "cell_type": "code",
   "execution_count": null,
   "metadata": {},
   "outputs": [],
   "source": [
    "from sklearn.base import TransformerMixin\n",
    "\n",
    "class DataFrameImputer(TransformerMixin):\n",
    "\n",
    "    def __init__(self):\n",
    "        \"\"\"Impute missing values.\n",
    "\n",
    "        Columns of dtype object are imputed with the most frequent value \n",
    "        in column.\n",
    "\n",
    "        Columns of other types are imputed with mean of column.\n",
    "\n",
    "        \"\"\"\n",
    "    def fit(self, X, y=None):\n",
    "\n",
    "        self.fill = pd.Series([X[c].value_counts().index[0]\n",
    "            if X[c].dtype == np.dtype('O') else X[c].mean() for c in X],\n",
    "            index=X.columns)\n",
    "\n",
    "        return self\n",
    "\n",
    "    def transform(self, X, y=None):\n",
    "        return X.fillna(self.fill)\n",
    "\n",
    "\n",
    "\n",
    "# X_transition = pd.DataFrame(df_UPCAT)\n",
    "# X_clean = DataFrameImputer().fit_transform(X_transition)\n",
    "\n",
    "# X_clean.isnull().sum()"
   ]
  },
  {
   "cell_type": "code",
   "execution_count": 46,
   "metadata": {},
   "outputs": [],
   "source": [
    "def train_ridge(X, y):\n",
    "    C = [1e-8, 1e-4, 1e-3, 1e-2, 0.1, 0.2,0.4, 0.75, 1, 1.5, 3, 5, 10, 15,  20, 100, 300, 1000, 5000]\n",
    "    #C = [0.01]\n",
    "\n",
    "    score_train = []\n",
    "    score_test = []\n",
    "    weighted_coefs=[]\n",
    "    \n",
    "    for seed in range(Number_trials):\n",
    "        training_accuracy = []  \n",
    "        test_accuracy = []\n",
    "        X_train, X_test, y_train, y_test = train_test_split(X, y, test_size=0.25, random_state=seed)\n",
    "        for alpha_run in C:\n",
    "            ridge = Ridge(alpha=alpha_run).fit(X_train, y_train)\n",
    "            training_accuracy.append(ridge.score(X_train, y_train))\n",
    "            test_accuracy.append(ridge.score(X_test, y_test))\n",
    "            #if alpha_run == 0.01:\n",
    "            coefs=ridge.coef_ \n",
    "            weighted_coefs.append(coefs) #append all the computed coefficients per trial\n",
    "                \n",
    "        score_train.append(training_accuracy)\n",
    "        score_test.append(test_accuracy)\n",
    "    \n",
    "    mean_coefs=np.mean(weighted_coefs, axis=0) #get the mean of the weighted coefficients over all the trials \n",
    "    #print(mean_coefs) \n",
    "    score = np.mean(score_test, axis=0)\n",
    "    #return score.shape\n",
    "    #coefs = lr.coef_\n",
    "    #return C value, accuracy, column/feature name\n",
    "    \n",
    "    if scaler == 'ON':\n",
    "        top_predictor=X_clean.columns[np.argmax(np.abs(mean_coefs))]\n",
    "        abs_mean_coefs = np.abs(mean_coefs[0,:])\n",
    "        coefs_count = len(abs_mean_coefs)\n",
    "        fig, ax = plt.subplots(figsize=(3,5))\n",
    "        ax.barh(np.arange(coefs_count), sorted(abs_mean_coefs))\n",
    "        #ax.barh(np.arange(coefs_count), mean_coefs[0, np.argsort(abs_mean_coefs)])\n",
    "        ax.set_yticks(np.arange(coefs_count))\n",
    "        ax.set_yticklabels(X_clean.columns[np.argsort(abs_mean_coefs)])\n",
    "   \n",
    "    if scaler == 'OFF':\n",
    "        top_predictor=X.columns[np.argmax(np.abs(mean_coefs))]\n",
    "        abs_mean_coefs = np.abs(mean_coefs[0,:])\n",
    "        coefs_count = len(abs_mean_coefs)\n",
    "        fig, ax = plt.subplots(figsize=(3,5))\n",
    "        ax.barh(np.arange(coefs_count), sorted(abs_mean_coefs))\n",
    "        #ax.barh(np.arange(coefs_count), mean_coefs[0, np.argsort(abs_mean_coefs)])\n",
    "        ax.set_yticks(np.arange(coefs_count))\n",
    "        ax.set_yticklabels(X.columns[np.argsort(abs_mean_coefs)])\n",
    "        \n",
    "    return ['Ridgge', np.amax(score), \\\n",
    "            'C = {0}'.format(C[np.argmax(score)])]"
   ]
  },
  {
   "cell_type": "code",
   "execution_count": 61,
   "metadata": {},
   "outputs": [
    {
     "data": {
      "text/plain": [
       "['Logistic (Ridge)', 0.75806238637038, 'C = 1']"
      ]
     },
     "execution_count": 61,
     "metadata": {},
     "output_type": "execute_result"
    }
   ],
   "source": [
    "X_1 = scaler.fit_transform(X_1)\n",
    "train_logistic(X_1, y_1)"
   ]
  },
  {
   "cell_type": "code",
   "execution_count": 62,
   "metadata": {},
   "outputs": [
    {
     "data": {
      "text/plain": [
       "['Logistic (Ridge)', 0.37408844412330033, 'C = 5']"
      ]
     },
     "execution_count": 62,
     "metadata": {},
     "output_type": "execute_result"
    }
   ],
   "source": [
    "X_2 = scaler.fit_transform(X_2)\n",
    "train_ridge(X_2, y_2)"
   ]
  },
  {
   "cell_type": "code",
   "execution_count": 63,
   "metadata": {},
   "outputs": [
    {
     "data": {
      "text/plain": [
       "['Logistic (Ridge)', 0.3824678499314161, 'C = 1e-08']"
      ]
     },
     "execution_count": 63,
     "metadata": {},
     "output_type": "execute_result"
    }
   ],
   "source": [
    "X_3 = scaler.fit_transform(X_3)\n",
    "train_ridge(X_3, y_3)"
   ]
  },
  {
   "cell_type": "code",
   "execution_count": 64,
   "metadata": {},
   "outputs": [
    {
     "data": {
      "text/plain": [
       "['Logistic (Ridge)', 0.2824667820736828, 'C = 1e-08']"
      ]
     },
     "execution_count": 64,
     "metadata": {},
     "output_type": "execute_result"
    }
   ],
   "source": [
    "X_4 = scaler.fit_transform(X_4)\n",
    "train_ridge(X_4, y_4)"
   ]
  },
  {
   "cell_type": "markdown",
   "metadata": {},
   "source": [
    "| TIER       | Accuracy (Ridge)        | Best Parameter |\n",
    "| ------------- |:-------------:| -----:|\n",
    "|1 | 0.75806238637038 | C = 1 |\n",
    "|2    |0.37408844412330033       |   C = 5 |\n",
    "| 3 | 0.3824678499314161   |    C = 1e-08 |\n",
    "| 4 | 0.2824667820736828   |    C = 1e-08 |"
   ]
  },
  {
   "cell_type": "markdown",
   "metadata": {},
   "source": [
    "**Rejecting Ridge since the accuracy is lower than the other regression techniques**"
   ]
  }
 ],
 "metadata": {
  "kernelspec": {
   "display_name": "Python 3",
   "language": "python",
   "name": "python3"
  },
  "language_info": {
   "codemirror_mode": {
    "name": "ipython",
    "version": 3
   },
   "file_extension": ".py",
   "mimetype": "text/x-python",
   "name": "python",
   "nbconvert_exporter": "python",
   "pygments_lexer": "ipython3",
   "version": "3.7.1"
  }
 },
 "nbformat": 4,
 "nbformat_minor": 2
}
