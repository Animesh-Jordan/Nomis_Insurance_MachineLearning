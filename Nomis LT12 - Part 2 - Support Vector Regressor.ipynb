{
 "cells": [
  {
   "cell_type": "markdown",
   "metadata": {},
   "source": [
    "## Predicting the Optimal APR for e-Car\n",
    "### Nomis Solutions - LT 12"
   ]
  },
  {
   "cell_type": "markdown",
   "metadata": {},
   "source": [
    "### Part 2 - Ridge Regression"
   ]
  },
  {
   "cell_type": "code",
   "execution_count": 2,
   "metadata": {
    "ExecuteTime": {
     "end_time": "2019-08-15T00:26:54.004798Z",
     "start_time": "2019-08-15T00:26:53.999778Z"
    }
   },
   "outputs": [],
   "source": [
    "import numpy as np\n",
    "import pandas as pd\n",
    "import matplotlib.pyplot as plt\n",
    "import seaborn as sns\n",
    "import re\n",
    "\n",
    "from sklearn.preprocessing import MinMaxScaler\n",
    "from sklearn.preprocessing import StandardScaler\n",
    "from sklearn.linear_model import LogisticRegression\n",
    "from sklearn.svm import LinearSVR\n",
    "from sklearn.svm import SVR\n",
    "from sklearn.svm import SVC\n",
    "from sklearn.model_selection import train_test_split\n",
    "from tqdm.autonotebook import tqdm\n",
    "from tqdm import trange\n",
    "from time import sleep\n",
    "from sklearn.model_selection import learning_curve, GridSearchCV\n"
   ]
  },
  {
   "cell_type": "markdown",
   "metadata": {},
   "source": [
    "### Reading Data"
   ]
  },
  {
   "cell_type": "code",
   "execution_count": 2,
   "metadata": {
    "ExecuteTime": {
     "end_time": "2019-08-12T03:02:57.020104Z",
     "start_time": "2019-08-12T03:02:04.703966Z"
    }
   },
   "outputs": [],
   "source": [
    "raw = pd.read_excel('NomisB.xlsx', na_values=' ')"
   ]
  },
  {
   "cell_type": "code",
   "execution_count": 3,
   "metadata": {
    "ExecuteTime": {
     "end_time": "2019-08-12T03:02:57.232376Z",
     "start_time": "2019-08-12T03:02:57.020104Z"
    },
    "scrolled": false
   },
   "outputs": [
    {
     "name": "stdout",
     "output_type": "stream",
     "text": [
      "(208085, 12)\n"
     ]
    },
    {
     "data": {
      "text/plain": [
       "Index(['Tier', 'FICO', 'Approve Date', 'Term', 'Amount', 'Previous Rate',\n",
       "       'Car  Type', 'Competition rate', 'Outcome', 'Rate', 'Cost of Funds',\n",
       "       'Partner Bin'],\n",
       "      dtype='object')"
      ]
     },
     "execution_count": 3,
     "metadata": {},
     "output_type": "execute_result"
    }
   ],
   "source": [
    "print(raw.shape)\n",
    "raw.columns"
   ]
  },
  {
   "cell_type": "code",
   "execution_count": 5,
   "metadata": {
    "ExecuteTime": {
     "end_time": "2019-08-12T03:29:22.829115Z",
     "start_time": "2019-08-12T03:29:22.573088Z"
    }
   },
   "outputs": [],
   "source": [
    "df = raw.copy()\n",
    "\n",
    "# Previous Rate NA = 0\n",
    "df = df.fillna(0)\n",
    "\n",
    "# Drop date\n",
    "df = df.drop('Approve Date', axis=1)\n",
    "\n",
    "# Partner Bin is categorical\n",
    "df['Partner Bin'] = df['Partner Bin'].astype('category')\n",
    "df = pd.get_dummies(df)\n",
    "\n",
    "# Drop Amount that is too small\n",
    "df = df[df.Amount>10]"
   ]
  },
  {
   "cell_type": "markdown",
   "metadata": {},
   "source": [
    "### Segmenting Data based on Tiers"
   ]
  },
  {
   "cell_type": "code",
   "execution_count": 6,
   "metadata": {
    "ExecuteTime": {
     "end_time": "2019-08-12T03:13:06.108700Z",
     "start_time": "2019-08-12T03:13:05.600135Z"
    }
   },
   "outputs": [],
   "source": [
    "# combi = (Outcome, Tier)\n",
    "combi = [(1,1),(1,2),(1,3),(1,4),(0,1),(0,2),(0,3),(0,4)]\n",
    "\n",
    "Xy = {i : { \n",
    "            'X' : df.groupby(['Outcome', 'Tier']).get_group(i).drop(['Outcome','Rate'], axis=1),\n",
    "            'y' : df.groupby(['Outcome', 'Tier']).get_group(i).Rate\n",
    "          }\n",
    "      for i in combi}"
   ]
  },
  {
   "cell_type": "code",
   "execution_count": 20,
   "metadata": {},
   "outputs": [],
   "source": [
    "def svr_reg(X, y):\n",
    "    X_train, X_test, y_train, y_test = train_test_split(X, y, test_size = 0.25, random_state = 1)\n",
    "    SV=LinearSVR(epsilon=0.2, C=2.0)\n",
    "    SV.fit(X_train,y_train)\n",
    "    y_pred_SVR = SV.predict(X_test)\n",
    "    return [SV.score(X_train, y_train), SV.score(X_test, y_test)]"
   ]
  },
  {
   "cell_type": "code",
   "execution_count": 21,
   "metadata": {},
   "outputs": [],
   "source": [
    "X1 = Xy[1,1]['X'].drop('Tier', axis=1)\n",
    "y1 = Xy[1,1]['y']\n",
    "\n",
    "X2 = Xy[1,2]['X'].drop('Tier', axis=1)\n",
    "y2 = Xy[1,2]['y']\n",
    "\n",
    "X3 = Xy[1,3]['X'].drop('Tier', axis=1)\n",
    "y3 = Xy[1,3]['y']\n",
    "\n",
    "X4 = Xy[1,4]['X'].drop('Tier', axis=1)\n",
    "y4 = Xy[1,4]['y']"
   ]
  },
  {
   "cell_type": "markdown",
   "metadata": {},
   "source": [
    "### Linear Support Vector Regression"
   ]
  },
  {
   "cell_type": "code",
   "execution_count": 24,
   "metadata": {},
   "outputs": [
    {
     "name": "stderr",
     "output_type": "stream",
     "text": [
      "C:\\Users\\Ross\\Anaconda3\\lib\\site-packages\\sklearn\\svm\\base.py:922: ConvergenceWarning: Liblinear failed to converge, increase the number of iterations.\n",
      "  \"the number of iterations.\", ConvergenceWarning)\n",
      "C:\\Users\\Ross\\Anaconda3\\lib\\site-packages\\sklearn\\svm\\base.py:922: ConvergenceWarning: Liblinear failed to converge, increase the number of iterations.\n",
      "  \"the number of iterations.\", ConvergenceWarning)\n",
      "C:\\Users\\Ross\\Anaconda3\\lib\\site-packages\\sklearn\\svm\\base.py:922: ConvergenceWarning: Liblinear failed to converge, increase the number of iterations.\n",
      "  \"the number of iterations.\", ConvergenceWarning)\n",
      "C:\\Users\\Ross\\Anaconda3\\lib\\site-packages\\sklearn\\svm\\base.py:922: ConvergenceWarning: Liblinear failed to converge, increase the number of iterations.\n",
      "  \"the number of iterations.\", ConvergenceWarning)\n"
     ]
    },
    {
     "data": {
      "text/html": [
       "<div>\n",
       "<style scoped>\n",
       "    .dataframe tbody tr th:only-of-type {\n",
       "        vertical-align: middle;\n",
       "    }\n",
       "\n",
       "    .dataframe tbody tr th {\n",
       "        vertical-align: top;\n",
       "    }\n",
       "\n",
       "    .dataframe thead th {\n",
       "        text-align: right;\n",
       "    }\n",
       "</style>\n",
       "<table border=\"1\" class=\"dataframe\">\n",
       "  <thead>\n",
       "    <tr style=\"text-align: right;\">\n",
       "      <th></th>\n",
       "      <th>Train Accuracy</th>\n",
       "      <th>Test Accuracy</th>\n",
       "    </tr>\n",
       "  </thead>\n",
       "  <tbody>\n",
       "    <tr>\n",
       "      <th>1</th>\n",
       "      <td>0.321532</td>\n",
       "      <td>0.309449</td>\n",
       "    </tr>\n",
       "    <tr>\n",
       "      <th>2</th>\n",
       "      <td>-3.430527</td>\n",
       "      <td>-3.344043</td>\n",
       "    </tr>\n",
       "    <tr>\n",
       "      <th>3</th>\n",
       "      <td>-5.187751</td>\n",
       "      <td>-4.775225</td>\n",
       "    </tr>\n",
       "    <tr>\n",
       "      <th>4</th>\n",
       "      <td>-0.026164</td>\n",
       "      <td>-0.032138</td>\n",
       "    </tr>\n",
       "  </tbody>\n",
       "</table>\n",
       "</div>"
      ],
      "text/plain": [
       "   Train Accuracy  Test Accuracy\n",
       "1        0.321532       0.309449\n",
       "2       -3.430527      -3.344043\n",
       "3       -5.187751      -4.775225\n",
       "4       -0.026164      -0.032138"
      ]
     },
     "execution_count": 24,
     "metadata": {},
     "output_type": "execute_result"
    }
   ],
   "source": [
    "cols = ['Train Accuracy', 'Test Accuracy']\n",
    "df2 = pd.DataFrame(columns=cols)\n",
    "\n",
    "df2.loc[1] = svr_reg(X1, y1)\n",
    "df2.loc[2] = svr_reg(X2, y2)\n",
    "df2.loc[3] = svr_reg(X3, y3)\n",
    "df2.loc[4] = svr_reg(X4, y4)\n",
    "df2\n"
   ]
  },
  {
   "cell_type": "code",
   "execution_count": 29,
   "metadata": {},
   "outputs": [],
   "source": [
    "def svr_reg_rbf(X, y):\n",
    "    X_train, X_test, y_train, y_test = train_test_split(X, y, test_size = 0.25, random_state = 1 )\n",
    "    SV=SVR(kernel='rbf', C=1.0, epsilon=0.2)\n",
    "    SV.fit(X_train,y_train)\n",
    "    y_pred_SVR = SV.predict(X_test)\n",
    "    return ['Tier', SV.score(X_train, y_train), SV.score(X_test, y_test)]"
   ]
  },
  {
   "cell_type": "markdown",
   "metadata": {},
   "source": [
    "### Non-Linear Support Vector Regression (RBF)"
   ]
  },
  {
   "cell_type": "code",
   "execution_count": 32,
   "metadata": {},
   "outputs": [
    {
     "name": "stderr",
     "output_type": "stream",
     "text": [
      "C:\\Users\\Ross\\Anaconda3\\lib\\site-packages\\sklearn\\svm\\base.py:196: FutureWarning: The default value of gamma will change from 'auto' to 'scale' in version 0.22 to account better for unscaled features. Set gamma explicitly to 'auto' or 'scale' to avoid this warning.\n",
      "  \"avoid this warning.\", FutureWarning)\n",
      "C:\\Users\\Ross\\Anaconda3\\lib\\site-packages\\sklearn\\svm\\base.py:196: FutureWarning: The default value of gamma will change from 'auto' to 'scale' in version 0.22 to account better for unscaled features. Set gamma explicitly to 'auto' or 'scale' to avoid this warning.\n",
      "  \"avoid this warning.\", FutureWarning)\n",
      "C:\\Users\\Ross\\Anaconda3\\lib\\site-packages\\sklearn\\svm\\base.py:196: FutureWarning: The default value of gamma will change from 'auto' to 'scale' in version 0.22 to account better for unscaled features. Set gamma explicitly to 'auto' or 'scale' to avoid this warning.\n",
      "  \"avoid this warning.\", FutureWarning)\n",
      "C:\\Users\\Ross\\Anaconda3\\lib\\site-packages\\sklearn\\svm\\base.py:196: FutureWarning: The default value of gamma will change from 'auto' to 'scale' in version 0.22 to account better for unscaled features. Set gamma explicitly to 'auto' or 'scale' to avoid this warning.\n",
      "  \"avoid this warning.\", FutureWarning)\n"
     ]
    },
    {
     "data": {
      "text/html": [
       "<div>\n",
       "<style scoped>\n",
       "    .dataframe tbody tr th:only-of-type {\n",
       "        vertical-align: middle;\n",
       "    }\n",
       "\n",
       "    .dataframe tbody tr th {\n",
       "        vertical-align: top;\n",
       "    }\n",
       "\n",
       "    .dataframe thead th {\n",
       "        text-align: right;\n",
       "    }\n",
       "</style>\n",
       "<table border=\"1\" class=\"dataframe\">\n",
       "  <thead>\n",
       "    <tr style=\"text-align: right;\">\n",
       "      <th></th>\n",
       "      <th>Tier</th>\n",
       "      <th>Train Accuracy</th>\n",
       "      <th>Test Accuracy</th>\n",
       "    </tr>\n",
       "  </thead>\n",
       "  <tbody>\n",
       "    <tr>\n",
       "      <th>1</th>\n",
       "      <td>Tier</td>\n",
       "      <td>0.846327</td>\n",
       "      <td>0.078933</td>\n",
       "    </tr>\n",
       "    <tr>\n",
       "      <th>2</th>\n",
       "      <td>Tier</td>\n",
       "      <td>0.873798</td>\n",
       "      <td>0.010525</td>\n",
       "    </tr>\n",
       "    <tr>\n",
       "      <th>3</th>\n",
       "      <td>Tier</td>\n",
       "      <td>0.742217</td>\n",
       "      <td>-0.012593</td>\n",
       "    </tr>\n",
       "    <tr>\n",
       "      <th>4</th>\n",
       "      <td>Tier</td>\n",
       "      <td>0.662752</td>\n",
       "      <td>0.001385</td>\n",
       "    </tr>\n",
       "  </tbody>\n",
       "</table>\n",
       "</div>"
      ],
      "text/plain": [
       "   Tier  Train Accuracy  Test Accuracy\n",
       "1  Tier        0.846327       0.078933\n",
       "2  Tier        0.873798       0.010525\n",
       "3  Tier        0.742217      -0.012593\n",
       "4  Tier        0.662752       0.001385"
      ]
     },
     "execution_count": 32,
     "metadata": {},
     "output_type": "execute_result"
    }
   ],
   "source": [
    "cols = ['Tier','Train Accuracy', 'Test Accuracy']\n",
    "df2 = pd.DataFrame(columns=cols)\n",
    "\n",
    "df2.loc[1] = svr_reg_rbf(X1, y1)\n",
    "df2.loc[2] = svr_reg_rbf(X2, y2)\n",
    "df2.loc[3] = svr_reg_rbf(X3, y3)\n",
    "df2.loc[4] = svr_reg_rbf(X4, y4)\n",
    "df2"
   ]
  },
  {
   "cell_type": "code",
   "execution_count": 33,
   "metadata": {},
   "outputs": [],
   "source": [
    "def svr_reg_poly(X, y):\n",
    "    X_train, X_test, y_train, y_test = train_test_split(X, y, test_size = 0.25, random_state = 1 )\n",
    "    SV=SVR(kernel='poly', C=1.0, epsilon=0.2)\n",
    "    SV.fit(X_train,y_train)\n",
    "    y_pred_SVR = SV.predict(X_test)\n",
    "    return ['Tier', SV.score(X_train, y_train), SV.score(X_test, y_test)]"
   ]
  },
  {
   "cell_type": "code",
   "execution_count": null,
   "metadata": {},
   "outputs": [
    {
     "name": "stderr",
     "output_type": "stream",
     "text": [
      "C:\\Users\\Ross\\Anaconda3\\lib\\site-packages\\sklearn\\svm\\base.py:196: FutureWarning: The default value of gamma will change from 'auto' to 'scale' in version 0.22 to account better for unscaled features. Set gamma explicitly to 'auto' or 'scale' to avoid this warning.\n",
      "  \"avoid this warning.\", FutureWarning)\n"
     ]
    }
   ],
   "source": [
    "cols = ['Tier','Train Accuracy', 'Test Accuracy']\n",
    "df3 = pd.DataFrame(columns=cols)\n",
    "\n",
    "df3.loc[1] = svr_reg_poly(X1, y1)\n",
    "df3.loc[2] = svr_reg_poly(X2, y2)\n",
    "df3.loc[3] = svr_reg_poly(X3, y3)\n",
    "df3.loc[4] = svr_reg_poly(X4, y4)\n",
    "df3"
   ]
  },
  {
   "cell_type": "markdown",
   "metadata": {},
   "source": [
    "**Rejecting SVR since the accuracy is lower than the other regression techniques**"
   ]
  }
 ],
 "metadata": {
  "kernelspec": {
   "display_name": "Python 3",
   "language": "python",
   "name": "python3"
  },
  "language_info": {
   "codemirror_mode": {
    "name": "ipython",
    "version": 3
   },
   "file_extension": ".py",
   "mimetype": "text/x-python",
   "name": "python",
   "nbconvert_exporter": "python",
   "pygments_lexer": "ipython3",
   "version": "3.6.5"
  }
 },
 "nbformat": 4,
 "nbformat_minor": 2
}
